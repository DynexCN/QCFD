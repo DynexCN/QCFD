{
 "cells": [
  {
   "cell_type": "markdown",
   "id": "ea0942ce",
   "metadata": {},
   "source": [
    "# Conversion of HHL Algorithm to QCFD Model"
   ]
  },
  {
   "cell_type": "markdown",
   "id": "e6e14da5",
   "metadata": {},
   "source": [
    "#### JOB POSTING ID: **#54**\n",
    "#### EXPERT NAME/ID: **Samer Rahmeh [sam@samrahmeh.com]** *(samgr55)*\n",
    "#### Client: **DYNEX Dev**\n",
    "#### Platform: **DYNEX Marketplace**"
   ]
  },
  {
   "cell_type": "markdown",
   "id": "c6fa4a25",
   "metadata": {},
   "source": [
    "------------------------------------------------------------------------------------------------------------------------------------"
   ]
  },
  {
   "cell_type": "markdown",
   "id": "3b6a309b",
   "metadata": {},
   "source": [
    "## Loading dependencies"
   ]
  },
  {
   "cell_type": "code",
   "execution_count": 1,
   "id": "05870e1d-3ffa-4e71-af17-ddba6adb77e3",
   "metadata": {},
   "outputs": [],
   "source": [
    "from qiskit.algorithms import HHL, NumPyLinearSolver\n",
    "from qiskit import Aer, execute\n",
    "from qiskit.quantum_info import state_fidelity\n",
    "import numpy as np\n",
    "from QCFD import QCFD\n",
    "import dynex\n",
    "from dimod import SimulatedAnnealingSampler, BinaryQuadraticModel"
   ]
  },
  {
   "cell_type": "markdown",
   "id": "dc34de8f",
   "metadata": {},
   "source": [
    "## Use-case (Example)\n",
    "This example has been taken from the paper *An Introduction to Algorithms in Quantum Computation of Fluid Dynamics* "
   ]
  },
  {
   "cell_type": "code",
   "execution_count": 2,
   "id": "abfe4b54",
   "metadata": {},
   "outputs": [],
   "source": [
    "# Use-case (taken from the paper)\n",
    "matrix = np.array([[1,0,0,0,0,0,0,0,0,0,0,0,0,0,0,0],\n",
    "                   [0,4,-1,0,0,-2,0,0,0,0,0,0,0,0,0,0],\n",
    "                   [0,-1,4,0,0,0,-2,0,0,0,0,0,0,0,0,0],\n",
    "                   [0,0,0,1,0,0,0,0,0,0,0,0,0,0,0,0],\n",
    "                   [0,0,0,0,1,0,0,0,0,0,0,0,0,0,0,0],\n",
    "                   [0,-2,0,0,0,4,-1,0,0,-1,0,0,0,0,0,0],\n",
    "                   [0,0,-2,0,0,-1,4,0,0,0,-1,0,0,0,0,0],\n",
    "                   [0,0,0,0,0,0,0,1,0,0,0,0,0,0,0,0],\n",
    "                   [0,0,0,0,0,0,0,0,1,0,0,0,0,0,0,0],\n",
    "                   [0,0,0,0,0,-1,0,0,0,4,-1,0,0,-2,0,0],\n",
    "                   [0,0,0,0,0,0,-1,0,0,-1,4,0,0,0,-2,0],\n",
    "                   [0,0,0,0,0,0,0,0,0,0,0,1,0,0,0,0],\n",
    "                   [0,0,0,0,0,0,0,0,0,0,0,0,1,0,0,0],\n",
    "                   [0,0,0,0,0,0,0,0,0,-2,0,0,0,4,-1,0],\n",
    "                   [0,0,0,0,0,0,0,0,0,0,-2,0,0,-1,4,0],\n",
    "                   [0,0,0,0,0,0,0,0,0,0,0,0,0,0,0,1],\n",
    "                   ])\n",
    "vector = np.array([200,200, 0,0, 200,200, 0,0, 200,200, 0,0, 200,200, 0,0])"
   ]
  },
  {
   "cell_type": "markdown",
   "id": "ff0f690a",
   "metadata": {},
   "source": [
    "**Convert Quantum State into Vector State**: The function `Cir2Vec` takes a quantum state from an HHL solution and utilizes Qiskit's `statevector_simulator` backend to execute the quantum circuit. It returns the resulting state vector, effectively converting the quantum state into a classical vector representation for further analysis or comparison.\n"
   ]
  },
  {
   "cell_type": "code",
   "execution_count": 3,
   "id": "9c28a300",
   "metadata": {},
   "outputs": [],
   "source": [
    "# Convert Quantum State into Vector State\n",
    "def Cir2Vec(HHL_QSol):\n",
    "    backend = Aer.get_backend('statevector_simulator')\n",
    "    job = execute(HHL_QSol, backend)\n",
    "    return job.result().get_statevector()"
   ]
  },
  {
   "cell_type": "markdown",
   "id": "4b0171d0",
   "metadata": {},
   "source": [
    "**Benchmarking with Fidelity**: The `Fidelity` function computes the fidelity between a quantum solution (`QSol`) and a classical solution (`CSol`). It first normalizes both solutions and then utilizes Qiskit's `state_fidelity` function to calculate the fidelity. This metric provides a measure of the similarity between the two solutions, where a fidelity close to 1 indicates a high degree of similarity."
   ]
  },
  {
   "cell_type": "code",
   "execution_count": 4,
   "id": "0f6463fb",
   "metadata": {},
   "outputs": [],
   "source": [
    "# Benchmarking with Fidelity\n",
    "def Fidelity(QSol, CSol):\n",
    "    QSol_Norm = QSol / np.linalg.norm(QSol)\n",
    "    CSol_Norm = CSol / np.linalg.norm(CSol)\n",
    "    fidelity = state_fidelity(QSol_Norm, CSol_Norm)\n",
    "    print(\"fidelity %f\" % fidelity)"
   ]
  },
  {
   "cell_type": "markdown",
   "id": "a956dea7",
   "metadata": {},
   "source": [
    "**Quantum and Classical Solution Comparison**: This section first calculates the quantum solution using the Harrow-Hassidim-Lloyd (HHL) algorithm and then extracts the state vector of the quantum solution using the `Cir2Vec` function. It prints both the quantum state and its state vector representation. Next, it calculates the classical solution to the same linear system using Qiskit's `NumPyLinearSolver` for comparison. Both solutions are rounded and printed for easy comparison. This allows for a direct comparison of quantum and classical approaches in solving linear systems and benchmarking their results."
   ]
  },
  {
   "cell_type": "code",
   "execution_count": 5,
   "id": "b023d926-2968-49ab-8dc1-f86ea5ac926a",
   "metadata": {},
   "outputs": [
    {
     "name": "stdout",
     "output_type": "stream",
     "text": [
      "Quantum Solution State: \n",
      "      ┌────────────┐┌──────┐        ┌─────────┐\n",
      "q0_0: ┤0           ├┤5     ├────────┤5        ├\n",
      "      │            ││      │        │         │\n",
      "q0_1: ┤1           ├┤6     ├────────┤6        ├\n",
      "      │  circuit-7 ││      │        │         │\n",
      "q0_2: ┤2           ├┤7     ├────────┤7        ├\n",
      "      │            ││      │        │         │\n",
      "q0_3: ┤3           ├┤8     ├────────┤8        ├\n",
      "      └────────────┘│      │┌──────┐│         │\n",
      "q1_0: ──────────────┤0 QPE ├┤4     ├┤0 QPE_dg ├\n",
      "                    │      ││      ││         │\n",
      "q1_1: ──────────────┤1     ├┤3     ├┤1        ├\n",
      "                    │      ││      ││         │\n",
      "q1_2: ──────────────┤2     ├┤2     ├┤2        ├\n",
      "                    │      ││  1/x ││         │\n",
      "q1_3: ──────────────┤3     ├┤1     ├┤3        ├\n",
      "                    │      ││      ││         │\n",
      "q1_4: ──────────────┤4     ├┤0     ├┤4        ├\n",
      "                    └──────┘│      │└─────────┘\n",
      "q2_0: ──────────────────────┤5     ├───────────\n",
      "                            └──────┘           \n",
      "Quantum Solution StateVector: \n",
      "[ 0.00199+0.00082j  0.00126+0.00052j  0.00104+0.00043j ...\n",
      " -0.00257+0.00621j -0.00272+0.00657j  0.     +0.j     ]\n",
      "Classical solution: \n",
      "[200.   237.5  162.5    0.   200.   293.75 206.25   0.   200.   293.75\n",
      " 206.25   0.   200.   237.5  162.5    0.  ]\n"
     ]
    }
   ],
   "source": [
    "# Quantum Solution\n",
    "hhl = HHL()\n",
    "hhlRes = hhl.solve(matrix, vector)\n",
    "QSol = hhlRes.state\n",
    "print(\"Quantum Solution State: \")\n",
    "print(QSol)\n",
    "QSol_SV = np.round(Cir2Vec(QSol), 5)\n",
    "print(\"Quantum Solution StateVector: \")\n",
    "print(QSol_SV)\n",
    "\n",
    "# Linear Solution\n",
    "NPLinear = NumPyLinearSolver()\n",
    "classicRes = NPLinear.solve(matrix, vector)\n",
    "CSol = classicRes.state\n",
    "CSol_SV = np.round(CSol, 5)\n",
    "print(\"Classical solution: \")\n",
    "print(CSol_SV)"
   ]
  },
  {
   "cell_type": "markdown",
   "id": "cbbe244a",
   "metadata": {},
   "source": [
    "----------------------------------------------------------------------------------------"
   ]
  },
  {
   "cell_type": "markdown",
   "id": "c96f6141",
   "metadata": {},
   "source": [
    "## Loading QCFD"
   ]
  },
  {
   "cell_type": "markdown",
   "id": "4a6b74dc",
   "metadata": {},
   "source": [
    "**Initializing QCFD Class**: Here, we instantiate the `QCFD` class, creating an object `qcfd` to be used to access and execute the methods defined in the `QCFD` class, such as converting linear systems to QUBO format `Lin2QUBO` and solving them using various computational methods `compute` and more."
   ]
  },
  {
   "cell_type": "code",
   "execution_count": 6,
   "id": "ac5c7f37",
   "metadata": {},
   "outputs": [],
   "source": [
    "qcfd = QCFD()"
   ]
  },
  {
   "cell_type": "markdown",
   "id": "aa299a29",
   "metadata": {},
   "source": [
    "**Executing QCFD Computation Locally**: This line calls the `compute` method of the `qcfd` object, passing the matrix and vector as parameters along with the specification `compute='local'`. This instructs the QCFD class to solve the converted QUBO problem using the local computational method `CPU` (`Simulated Annealing Sampler`)"
   ]
  },
  {
   "cell_type": "markdown",
   "id": "eef10530",
   "metadata": {},
   "source": [
    "**[NOTE]:** `SAsol` is the solution obtained from the local computation decoded back to vectorized array `DecodeSol`"
   ]
  },
  {
   "cell_type": "code",
   "execution_count": 16,
   "id": "6286315a",
   "metadata": {},
   "outputs": [
    {
     "name": "stdout",
     "output_type": "stream",
     "text": [
      "[199. 159. 127.   0. 199. 221. 185.   0. 199. 255. 227.   0. 199. 216.\n",
      " 192.   0.]\n"
     ]
    }
   ],
   "source": [
    "SAsol = qcfd.compute(matrix, vector, compute='local')"
   ]
  },
  {
   "cell_type": "markdown",
   "id": "2c0cbcd4",
   "metadata": {},
   "source": [
    "### Comparing Classical and Quantum Solutions with Fidelity\n",
    "This section utilizes the `Fidelity` function to compare the classical solution obtained from `NumPyLinearSolver()` with the quantum solution obtained from the QCFD model using Simulated Annealing `compute='local'` as the QUBO solver. By invoking `Fidelity(SAsol, CSol_SV)`, it calculates and prints the fidelity between the two solutions, providing a measure of similarity. A higher fidelity indicates a closer match between the classical and quantum solutions, serving as a benchmark for the effectiveness and accuracy of the quantum computational approach used in the QCFD model."
   ]
  },
  {
   "cell_type": "code",
   "execution_count": 17,
   "id": "4386470d",
   "metadata": {},
   "outputs": [
    {
     "name": "stdout",
     "output_type": "stream",
     "text": [
      "fidelity 0.978069\n"
     ]
    }
   ],
   "source": [
    "### Using Qiskit state_fidelity to compare \n",
    "### The Classical Solution with Quantum Solution (Simulated Annealing QUBO)\n",
    "### [NumPyLinearSolver()] vs. [QCFD()] \n",
    "Fidelity(SAsol,CSol_SV) "
   ]
  },
  {
   "cell_type": "markdown",
   "id": "5d934428",
   "metadata": {},
   "source": [
    "Make sure my marketplace account is ready for active on DYNEX"
   ]
  },
  {
   "cell_type": "code",
   "execution_count": 9,
   "id": "e3487b20",
   "metadata": {},
   "outputs": [
    {
     "name": "stdout",
     "output_type": "stream",
     "text": [
      "[DYNEX] TEST: dimod BQM construction...\n",
      "[DYNEX] PASSED\n",
      "[DYNEX] TEST: Dynex Sampler object...\n",
      "[DYNEX] PASSED\n",
      "[DYNEX] TEST: submitting sample file...\n",
      "[DYNEX] PASSED\n",
      "[DYNEX] TEST: retrieving samples...\n",
      "[DYNEX] PASSED\n",
      "[DYNEX] TEST RESULT: ALL TESTS PASSED\n"
     ]
    }
   ],
   "source": [
    "dynex.test()"
   ]
  },
  {
   "cell_type": "markdown",
   "id": "1dfc3796",
   "metadata": {},
   "source": [
    "**Executing QCFD Computation on DYNEX**: This line calls the `compute` method of the `qcfd` object, passing the matrix and vector as parameters along with the specification `compute='dynex'`. This instructs the QCFD class to solve the converted QUBO problem using DYNEX Network `Blockchain` (`DYNEX Neuromorphic Computing`)"
   ]
  },
  {
   "cell_type": "code",
   "execution_count": 12,
   "id": "1dfcf28f",
   "metadata": {},
   "outputs": [
    {
     "name": "stdout",
     "output_type": "stream",
     "text": [
      "╭────────────┬─────────────┬───────────┬────────────────┬─────────┬─────────┬────────────────╮\n",
      "│   DYNEXJOB │   BLOCK FEE │   ELAPSED │   WORKERS READ │   CHIPS │   STEPS │   GROUND STATE │\n",
      "├────────────┼─────────────┼───────────┼────────────────┼─────────┼─────────┼────────────────┤\n",
      "│        996 │        0.98 │      7.94 │              3 │    1216 │     200 │    14504524.00 │\n",
      "╰────────────┴─────────────┴───────────┴────────────────┴─────────┴─────────┴────────────────╯\n",
      "╭────────────┬─────────────────┬─────────┬───────┬─────────────┬──────────────┬─────────────────────────────┬───────────┬──────────╮\n",
      "│     WORKER │         VERSION │   CHIPS │   LOC │      ENERGY │      RUNTIME │                 LAST UPDATE │     STEPS │   STATUS │\n",
      "├────────────┼─────────────────┼─────────┼───────┼─────────────┼──────────────┼─────────────────────────────┼───────────┼──────────┤\n",
      "│ a5e8..72b9 │ 2.3.5.OZM.127.L │     480 │     0 │        0.00 │ 4.746618721s │ 2023-12-25T12:40:06.433377Z │ 0 (0.00%) │  \u001b[1;31mSTOPPED\u001b[0m │\n",
      "├────────────┼─────────────────┼─────────┼───────┼─────────────┼──────────────┼─────────────────────────────┼───────────┼──────────┤\n",
      "│ b0b7..d91c │ 2.3.5.OZM.127.L │     480 │   685 │ 14485194.00 │ 1.878051963s │ 2023-12-25T12:40:09.301945Z │ 0 (0.00%) │  \u001b[1;31mSTOPPED\u001b[0m │\n",
      "├────────────┼─────────────────┼─────────┼───────┼─────────────┼──────────────┼─────────────────────────────┼───────────┼──────────┤\n",
      "│ dcfd..7dbe │ 2.3.5.OZM.127.L │     480 │   683 │ 14494615.00 │ 5.253818737s │ 2023-12-25T12:40:05.926179Z │ 0 (0.00%) │  \u001b[1;31mSTOPPED\u001b[0m │\n",
      "├────────────┼─────────────────┼─────────┼───────┼─────────────┼──────────────┼─────────────────────────────┼───────────┼──────────┤\n",
      "│ 274a..ffca │ 2.3.5.OZM.127.L │     480 │   681 │ 14497642.00 │ 1.895555437s │ 2023-12-25T12:40:09.284443Z │ 0 (0.00%) │  \u001b[1;31mSTOPPED\u001b[0m │\n",
      "├────────────┼─────────────────┼─────────┼───────┼─────────────┼──────────────┼─────────────────────────────┼───────────┼──────────┤\n",
      "│ 65d4..aca3 │ 2.3.5.OZM.127.L │     288 │   666 │ 14512025.00 │ 7.614675104s │ 2023-12-25T12:40:03.565324Z │ 0 (0.00%) │  \u001b[1;31mSTOPPED\u001b[0m │\n",
      "├────────────┼─────────────────┼─────────┼───────┼─────────────┼──────────────┼─────────────────────────────┼───────────┼──────────┤\n",
      "│ ab90..7416 │ 2.3.5.OZM.127.L │     224 │   686 │ 14516654.00 │ 8.183914725s │ 2023-12-25T12:40:02.996085Z │ 0 (0.00%) │  \u001b[1;31mSTOPPED\u001b[0m │\n",
      "├────────────┼─────────────────┼─────────┼───────┼─────────────┼──────────────┼─────────────────────────────┼───────────┼──────────┤\n",
      "│ 2d3f..204f │ 2.3.5.OZM.127.L │     480 │   684 │ 14519241.00 │ 4.401686241s │ 2023-12-25T12:40:06.778314Z │ 0 (0.00%) │  \u001b[1;31mSTOPPED\u001b[0m │\n",
      "├────────────┼─────────────────┼─────────┼───────┼─────────────┼──────────────┼─────────────────────────────┼───────────┼──────────┤\n",
      "│ de22..96cb │ 2.3.5.OZM.127.L │     288 │   696 │ 14519878.00 │ 5.627594847s │ 2023-12-25T12:40:05.552406Z │ 0 (0.00%) │  \u001b[1;31mSTOPPED\u001b[0m │\n",
      "╰────────────┴─────────────────┴─────────┴───────┴─────────────┴──────────────┴─────────────────────────────┴───────────┴──────────╯\n",
      "[DYNEX] FINISHED READ AFTER 7.94 SECONDS\n",
      "[DYNEX] SAMPLESET READY\n",
      "[155. 207. 142.  43. 204. 254. 203.  22. 150. 239. 189.   4. 152. 188.\n",
      " 160.  15.]\n"
     ]
    }
   ],
   "source": [
    "\n",
    "Dsol = qcfd.compute(matrix, vector, compute='dynex')"
   ]
  },
  {
   "cell_type": "markdown",
   "id": "c00996ce",
   "metadata": {},
   "source": [
    "### Comparing Classical and DYNEX Solutions with Fidelity\n",
    "This section utilizes the `Fidelity` function to compare the classical solution obtained from `NumPyLinearSolver()` with the Dynex solution obtained from the QCFD model using Neuromorphic Computing `compute='dynex'` as the QUBO solver. By invoking `Fidelity(Dsol, CSol_SV)`, it calculates and prints the fidelity between the two solutions, providing a measure of similarity. A higher fidelity indicates a closer match between the classical and Dynex solutions, serving as a benchmark for the effectiveness and accuracy of the Dynex computational approach used in the QCFD model."
   ]
  },
  {
   "cell_type": "code",
   "execution_count": 13,
   "id": "44f8e710",
   "metadata": {},
   "outputs": [
    {
     "name": "stdout",
     "output_type": "stream",
     "text": [
      "fidelity 0.985251\n"
     ]
    }
   ],
   "source": [
    "### Using Qiskit state_fidelity to compare \n",
    "### The Classical Solution with Neuromorphic Solution (DYNEX Platform)\n",
    "### [NumPyLinearSolver] vs. [QCFD()] \n",
    "Fidelity(Dsol,CSol_SV) "
   ]
  }
 ],
 "metadata": {
  "kernelspec": {
   "display_name": "Python 3 (ipykernel)",
   "language": "python",
   "name": "python3"
  },
  "language_info": {
   "codemirror_mode": {
    "name": "ipython",
    "version": 3
   },
   "file_extension": ".py",
   "mimetype": "text/x-python",
   "name": "python",
   "nbconvert_exporter": "python",
   "pygments_lexer": "ipython3",
   "version": "3.8.18"
  }
 },
 "nbformat": 4,
 "nbformat_minor": 5
}
